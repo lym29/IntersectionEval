{
 "cells": [
  {
   "cell_type": "code",
   "execution_count": 5,
   "metadata": {},
   "outputs": [
    {
     "name": "stdout",
     "output_type": "stream",
     "text": [
      "1119.3000455228312\n"
     ]
    }
   ],
   "source": [
    "import os\n",
    "import sys\n",
    "import trimesh\n",
    "\n",
    "filename1 = \"./model_1_refine-2/time_0/0.ply\"\n",
    "filename2 = \"./model_1_refine-2/time_0/1.ply\"\n",
    "\n",
    "mesh1 = trimesh.load(filename1, force='mesh')\n",
    "mesh2 = trimesh.load(filename2, force='mesh')\n",
    "combined = trimesh.util.concatenate([mesh1,mesh2])\n",
    "cvxHull = trimesh.convex.convex_hull(combined)\n",
    "cvxVolDist = cvxHull.volume - mesh1.volume - mesh2.volume\n",
    "\n",
    "print(cvxVolDist)"
   ]
  }
 ],
 "metadata": {
  "kernelspec": {
   "display_name": "DGP",
   "language": "python",
   "name": "python3"
  },
  "language_info": {
   "codemirror_mode": {
    "name": "ipython",
    "version": 3
   },
   "file_extension": ".py",
   "mimetype": "text/x-python",
   "name": "python",
   "nbconvert_exporter": "python",
   "pygments_lexer": "ipython3",
   "version": "3.7.9"
  },
  "orig_nbformat": 4
 },
 "nbformat": 4,
 "nbformat_minor": 2
}
